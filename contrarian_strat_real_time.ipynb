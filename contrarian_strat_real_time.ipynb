{
 "metadata": {
  "language_info": {
   "codemirror_mode": {
    "name": "ipython",
    "version": 3
   },
   "file_extension": ".py",
   "mimetype": "text/x-python",
   "name": "python",
   "nbconvert_exporter": "python",
   "pygments_lexer": "ipython3",
   "version": "3.8.3-final"
  },
  "orig_nbformat": 2,
  "kernelspec": {
   "name": "python38364bit644a824b3b254afea859fded9c59e82f",
   "display_name": "Python 3.8.3 64-bit"
  }
 },
 "nbformat": 4,
 "nbformat_minor": 2,
 "cells": [
  {
   "cell_type": "code",
   "execution_count": 57,
   "metadata": {},
   "outputs": [],
   "source": [
    "import pandas as pd\n",
    "import numpy as np\n",
    "import tpqoa"
   ]
  },
  {
   "cell_type": "code",
   "execution_count": 58,
   "metadata": {},
   "outputs": [],
   "source": [
    "class ConTrader(tpqoa.tpqoa):\n",
    "\n",
    "    def __init__(self, config_file, instrument, bar_length, window, units):\n",
    "        super().__init__(config_file)\n",
    "        self.position = 0\n",
    "        self.instrument = instrument\n",
    "        self.window = window\n",
    "        self.bar_length = bar_length\n",
    "        self.units = units\n",
    "        self.tick_data = pd.DataFrame()\n",
    "        self.min_length = self.window+1\n",
    "        self.profits = [] # list with every PL\n",
    "\n",
    "# utilities\n",
    "    def prepare_data(self):\n",
    "        self.data[\"returns\"] = np.log(self.data.mid.div(self.data.mid.shift(periods=1)))\n",
    "        self.data[\"position\"] = -np.sign(self.data.returns.rolling(window=self.window).mean())\n",
    "\n",
    "    def resample_data(self):\n",
    "        self.data = self.tick_data.resample(self.bar_length, label=\"right\").last().ffill().iloc[:-1]\n",
    "\n",
    "    def report_trade(self, order, going):\n",
    "        time = order[\"time\"]\n",
    "        units = order[\"units\"]\n",
    "        price = order[\"price\"]\n",
    "        pl = float(order[\"pl\"])\n",
    "        self.profits.append(pl)\n",
    "        cum_pl = sum(self.profits)\n",
    "\n",
    "        print(\"\\n\"+60*\"-\")\n",
    "        print(\"{} | {}\".format(time, going))\n",
    "        print(\"{} | units: {} | price: {} | P&L: {} | Cum P&L: {}\".format(time, units, price, pl, cum_pl))\n",
    "        print(60*\"-\")\n",
    "\n",
    "    \n",
    "# trading\n",
    "    def on_success(self, time, bid, ask):\n",
    "        print(self.ticks, end=\" \")\n",
    "\n",
    "    # collect and resample tick data\n",
    "        df = pd.DataFrame({\"bid\": bid, \"ask\": ask, \"mid\": (bid+ask)/2}, index=[pd.to_datetime(time)])\n",
    "        self.tick_data = self.tick_data.append(df)\n",
    "        self.resample_data()\n",
    "\n",
    "    # prepare data & define strategy\n",
    "        self.prepare_data()\n",
    "\n",
    "    # live trading\n",
    "        if len(self.data) > self.min_length - 1:\n",
    "            self.min_length += 1\n",
    "            if self.data.position.iloc[-1] == 1:\n",
    "                if self.position == 0:\n",
    "                    order = self.create_order(instrument=self.instrument, units=self.units, suppress=True, ret=True)\n",
    "                    self.report_trade(order, \"Going Long\")\n",
    "                elif self.position == -1:\n",
    "                    order = self.create_order(instrument=self.instrument, units=self.units*2, suppress=True, ret=True)\n",
    "                    self.report_trade(order, \"Closing Prev Position & Going Long\")\n",
    "                self.position = 1\n",
    "            elif self.data.position.iloc[-1] == -1:\n",
    "                if self.position == 0:\n",
    "                    order = self.create_order(instrument=self.instrument, units=-self.units, suppress=True, ret=True)\n",
    "                    self.report_trade(order, \"Going Short\")\n",
    "                elif self.position == 1:\n",
    "                    order = self.create_order(instrument=self.instrument, units=-self.units*2, suppress=True, ret=True)\n",
    "                    self.report_trade(order, \"Closing Prev Position & Going Short\")\n",
    "                self.position = -1"
   ]
  },
  {
   "cell_type": "code",
   "execution_count": 59,
   "metadata": {},
   "outputs": [],
   "source": [
    "trader = ConTrader(\"oanda.cfg\", \"EUR_USD\", \"5s\", 1, 100000)"
   ]
  },
  {
   "cell_type": "code",
   "execution_count": 60,
   "metadata": {},
   "outputs": [
    {
     "output_type": "stream",
     "name": "stdout",
     "text": [
      "1 "
     ]
    },
    {
     "output_type": "error",
     "ename": "KeyboardInterrupt",
     "evalue": "",
     "traceback": [
      "\u001b[0;31m---------------------------------------------------------------------------\u001b[0m",
      "\u001b[0;31mKeyboardInterrupt\u001b[0m                         Traceback (most recent call last)",
      "\u001b[0;32m<ipython-input-60-0f5179b93fce>\u001b[0m in \u001b[0;36m<module>\u001b[0;34m\u001b[0m\n\u001b[0;32m----> 1\u001b[0;31m \u001b[0mtrader\u001b[0m\u001b[0;34m.\u001b[0m\u001b[0mstream_data\u001b[0m\u001b[0;34m(\u001b[0m\u001b[0minstrument\u001b[0m\u001b[0;34m=\u001b[0m\u001b[0mtrader\u001b[0m\u001b[0;34m.\u001b[0m\u001b[0minstrument\u001b[0m\u001b[0;34m,\u001b[0m \u001b[0mstop\u001b[0m\u001b[0;34m=\u001b[0m\u001b[0;36m30\u001b[0m\u001b[0;34m)\u001b[0m\u001b[0;34m\u001b[0m\u001b[0;34m\u001b[0m\u001b[0m\n\u001b[0m",
      "\u001b[0;32m/Library/Frameworks/Python.framework/Versions/3.8/lib/python3.8/site-packages/tpqoa/tpqoa.py\u001b[0m in \u001b[0;36mstream_data\u001b[0;34m(self, instrument, stop, ret)\u001b[0m\n\u001b[1;32m    277\u001b[0m             instruments=instrument)\n\u001b[1;32m    278\u001b[0m         \u001b[0mmsgs\u001b[0m \u001b[0;34m=\u001b[0m \u001b[0;34m[\u001b[0m\u001b[0;34m]\u001b[0m\u001b[0;34m\u001b[0m\u001b[0;34m\u001b[0m\u001b[0m\n\u001b[0;32m--> 279\u001b[0;31m         \u001b[0;32mfor\u001b[0m \u001b[0mmsg_type\u001b[0m\u001b[0;34m,\u001b[0m \u001b[0mmsg\u001b[0m \u001b[0;32min\u001b[0m \u001b[0mresponse\u001b[0m\u001b[0;34m.\u001b[0m\u001b[0mparts\u001b[0m\u001b[0;34m(\u001b[0m\u001b[0;34m)\u001b[0m\u001b[0;34m:\u001b[0m\u001b[0;34m\u001b[0m\u001b[0;34m\u001b[0m\u001b[0m\n\u001b[0m\u001b[1;32m    280\u001b[0m             \u001b[0mmsgs\u001b[0m\u001b[0;34m.\u001b[0m\u001b[0mappend\u001b[0m\u001b[0;34m(\u001b[0m\u001b[0mmsg\u001b[0m\u001b[0;34m)\u001b[0m\u001b[0;34m\u001b[0m\u001b[0;34m\u001b[0m\u001b[0m\n\u001b[1;32m    281\u001b[0m             \u001b[0;31m# print(msg_type, msg)\u001b[0m\u001b[0;34m\u001b[0m\u001b[0;34m\u001b[0m\u001b[0;34m\u001b[0m\u001b[0m\n",
      "\u001b[0;32m/Library/Frameworks/Python.framework/Versions/3.8/lib/python3.8/site-packages/v20/response.py\u001b[0m in \u001b[0;36mparts\u001b[0;34m(self)\u001b[0m\n\u001b[1;32m     50\u001b[0m \u001b[0;34m\u001b[0m\u001b[0m\n\u001b[1;32m     51\u001b[0m         \u001b[0;32mtry\u001b[0m\u001b[0;34m:\u001b[0m\u001b[0;34m\u001b[0m\u001b[0;34m\u001b[0m\u001b[0m\n\u001b[0;32m---> 52\u001b[0;31m             \u001b[0;32mfor\u001b[0m \u001b[0mline\u001b[0m \u001b[0;32min\u001b[0m \u001b[0mself\u001b[0m\u001b[0;34m.\u001b[0m\u001b[0mlines\u001b[0m\u001b[0;34m:\u001b[0m\u001b[0;34m\u001b[0m\u001b[0;34m\u001b[0m\u001b[0m\n\u001b[0m\u001b[1;32m     53\u001b[0m                 \u001b[0;32myield\u001b[0m \u001b[0mparser\u001b[0m\u001b[0;34m(\u001b[0m\u001b[0mline\u001b[0m\u001b[0;34m)\u001b[0m\u001b[0;34m\u001b[0m\u001b[0;34m\u001b[0m\u001b[0m\n\u001b[1;32m     54\u001b[0m         \u001b[0;32mexcept\u001b[0m \u001b[0mrequests\u001b[0m\u001b[0;34m.\u001b[0m\u001b[0mexceptions\u001b[0m\u001b[0;34m.\u001b[0m\u001b[0mConnectionError\u001b[0m\u001b[0;34m:\u001b[0m\u001b[0;34m\u001b[0m\u001b[0;34m\u001b[0m\u001b[0m\n",
      "\u001b[0;32m/Library/Frameworks/Python.framework/Versions/3.8/lib/python3.8/site-packages/requests/models.py\u001b[0m in \u001b[0;36miter_lines\u001b[0;34m(self, chunk_size, decode_unicode, delimiter)\u001b[0m\n\u001b[1;32m    793\u001b[0m         \u001b[0mpending\u001b[0m \u001b[0;34m=\u001b[0m \u001b[0;32mNone\u001b[0m\u001b[0;34m\u001b[0m\u001b[0;34m\u001b[0m\u001b[0m\n\u001b[1;32m    794\u001b[0m \u001b[0;34m\u001b[0m\u001b[0m\n\u001b[0;32m--> 795\u001b[0;31m         \u001b[0;32mfor\u001b[0m \u001b[0mchunk\u001b[0m \u001b[0;32min\u001b[0m \u001b[0mself\u001b[0m\u001b[0;34m.\u001b[0m\u001b[0miter_content\u001b[0m\u001b[0;34m(\u001b[0m\u001b[0mchunk_size\u001b[0m\u001b[0;34m=\u001b[0m\u001b[0mchunk_size\u001b[0m\u001b[0;34m,\u001b[0m \u001b[0mdecode_unicode\u001b[0m\u001b[0;34m=\u001b[0m\u001b[0mdecode_unicode\u001b[0m\u001b[0;34m)\u001b[0m\u001b[0;34m:\u001b[0m\u001b[0;34m\u001b[0m\u001b[0;34m\u001b[0m\u001b[0m\n\u001b[0m\u001b[1;32m    796\u001b[0m \u001b[0;34m\u001b[0m\u001b[0m\n\u001b[1;32m    797\u001b[0m             \u001b[0;32mif\u001b[0m \u001b[0mpending\u001b[0m \u001b[0;32mis\u001b[0m \u001b[0;32mnot\u001b[0m \u001b[0;32mNone\u001b[0m\u001b[0;34m:\u001b[0m\u001b[0;34m\u001b[0m\u001b[0;34m\u001b[0m\u001b[0m\n",
      "\u001b[0;32m/Library/Frameworks/Python.framework/Versions/3.8/lib/python3.8/site-packages/requests/models.py\u001b[0m in \u001b[0;36mgenerate\u001b[0;34m()\u001b[0m\n\u001b[1;32m    749\u001b[0m             \u001b[0;32mif\u001b[0m \u001b[0mhasattr\u001b[0m\u001b[0;34m(\u001b[0m\u001b[0mself\u001b[0m\u001b[0;34m.\u001b[0m\u001b[0mraw\u001b[0m\u001b[0;34m,\u001b[0m \u001b[0;34m'stream'\u001b[0m\u001b[0;34m)\u001b[0m\u001b[0;34m:\u001b[0m\u001b[0;34m\u001b[0m\u001b[0;34m\u001b[0m\u001b[0m\n\u001b[1;32m    750\u001b[0m                 \u001b[0;32mtry\u001b[0m\u001b[0;34m:\u001b[0m\u001b[0;34m\u001b[0m\u001b[0;34m\u001b[0m\u001b[0m\n\u001b[0;32m--> 751\u001b[0;31m                     \u001b[0;32mfor\u001b[0m \u001b[0mchunk\u001b[0m \u001b[0;32min\u001b[0m \u001b[0mself\u001b[0m\u001b[0;34m.\u001b[0m\u001b[0mraw\u001b[0m\u001b[0;34m.\u001b[0m\u001b[0mstream\u001b[0m\u001b[0;34m(\u001b[0m\u001b[0mchunk_size\u001b[0m\u001b[0;34m,\u001b[0m \u001b[0mdecode_content\u001b[0m\u001b[0;34m=\u001b[0m\u001b[0;32mTrue\u001b[0m\u001b[0;34m)\u001b[0m\u001b[0;34m:\u001b[0m\u001b[0;34m\u001b[0m\u001b[0;34m\u001b[0m\u001b[0m\n\u001b[0m\u001b[1;32m    752\u001b[0m                         \u001b[0;32myield\u001b[0m \u001b[0mchunk\u001b[0m\u001b[0;34m\u001b[0m\u001b[0;34m\u001b[0m\u001b[0m\n\u001b[1;32m    753\u001b[0m                 \u001b[0;32mexcept\u001b[0m \u001b[0mProtocolError\u001b[0m \u001b[0;32mas\u001b[0m \u001b[0me\u001b[0m\u001b[0;34m:\u001b[0m\u001b[0;34m\u001b[0m\u001b[0;34m\u001b[0m\u001b[0m\n",
      "\u001b[0;32m/Library/Frameworks/Python.framework/Versions/3.8/lib/python3.8/site-packages/urllib3/response.py\u001b[0m in \u001b[0;36mstream\u001b[0;34m(self, amt, decode_content)\u001b[0m\n\u001b[1;32m    570\u001b[0m         \"\"\"\n\u001b[1;32m    571\u001b[0m         \u001b[0;32mif\u001b[0m \u001b[0mself\u001b[0m\u001b[0;34m.\u001b[0m\u001b[0mchunked\u001b[0m \u001b[0;32mand\u001b[0m \u001b[0mself\u001b[0m\u001b[0;34m.\u001b[0m\u001b[0msupports_chunked_reads\u001b[0m\u001b[0;34m(\u001b[0m\u001b[0;34m)\u001b[0m\u001b[0;34m:\u001b[0m\u001b[0;34m\u001b[0m\u001b[0;34m\u001b[0m\u001b[0m\n\u001b[0;32m--> 572\u001b[0;31m             \u001b[0;32mfor\u001b[0m \u001b[0mline\u001b[0m \u001b[0;32min\u001b[0m \u001b[0mself\u001b[0m\u001b[0;34m.\u001b[0m\u001b[0mread_chunked\u001b[0m\u001b[0;34m(\u001b[0m\u001b[0mamt\u001b[0m\u001b[0;34m,\u001b[0m \u001b[0mdecode_content\u001b[0m\u001b[0;34m=\u001b[0m\u001b[0mdecode_content\u001b[0m\u001b[0;34m)\u001b[0m\u001b[0;34m:\u001b[0m\u001b[0;34m\u001b[0m\u001b[0;34m\u001b[0m\u001b[0m\n\u001b[0m\u001b[1;32m    573\u001b[0m                 \u001b[0;32myield\u001b[0m \u001b[0mline\u001b[0m\u001b[0;34m\u001b[0m\u001b[0;34m\u001b[0m\u001b[0m\n\u001b[1;32m    574\u001b[0m         \u001b[0;32melse\u001b[0m\u001b[0;34m:\u001b[0m\u001b[0;34m\u001b[0m\u001b[0;34m\u001b[0m\u001b[0m\n",
      "\u001b[0;32m/Library/Frameworks/Python.framework/Versions/3.8/lib/python3.8/site-packages/urllib3/response.py\u001b[0m in \u001b[0;36mread_chunked\u001b[0;34m(self, amt, decode_content)\u001b[0m\n\u001b[1;32m    762\u001b[0m \u001b[0;34m\u001b[0m\u001b[0m\n\u001b[1;32m    763\u001b[0m             \u001b[0;32mwhile\u001b[0m \u001b[0;32mTrue\u001b[0m\u001b[0;34m:\u001b[0m\u001b[0;34m\u001b[0m\u001b[0;34m\u001b[0m\u001b[0m\n\u001b[0;32m--> 764\u001b[0;31m                 \u001b[0mself\u001b[0m\u001b[0;34m.\u001b[0m\u001b[0m_update_chunk_length\u001b[0m\u001b[0;34m(\u001b[0m\u001b[0;34m)\u001b[0m\u001b[0;34m\u001b[0m\u001b[0;34m\u001b[0m\u001b[0m\n\u001b[0m\u001b[1;32m    765\u001b[0m                 \u001b[0;32mif\u001b[0m \u001b[0mself\u001b[0m\u001b[0;34m.\u001b[0m\u001b[0mchunk_left\u001b[0m \u001b[0;34m==\u001b[0m \u001b[0;36m0\u001b[0m\u001b[0;34m:\u001b[0m\u001b[0;34m\u001b[0m\u001b[0;34m\u001b[0m\u001b[0m\n\u001b[1;32m    766\u001b[0m                     \u001b[0;32mbreak\u001b[0m\u001b[0;34m\u001b[0m\u001b[0;34m\u001b[0m\u001b[0m\n",
      "\u001b[0;32m/Library/Frameworks/Python.framework/Versions/3.8/lib/python3.8/site-packages/urllib3/response.py\u001b[0m in \u001b[0;36m_update_chunk_length\u001b[0;34m(self)\u001b[0m\n\u001b[1;32m    692\u001b[0m         \u001b[0;32mif\u001b[0m \u001b[0mself\u001b[0m\u001b[0;34m.\u001b[0m\u001b[0mchunk_left\u001b[0m \u001b[0;32mis\u001b[0m \u001b[0;32mnot\u001b[0m \u001b[0;32mNone\u001b[0m\u001b[0;34m:\u001b[0m\u001b[0;34m\u001b[0m\u001b[0;34m\u001b[0m\u001b[0m\n\u001b[1;32m    693\u001b[0m             \u001b[0;32mreturn\u001b[0m\u001b[0;34m\u001b[0m\u001b[0;34m\u001b[0m\u001b[0m\n\u001b[0;32m--> 694\u001b[0;31m         \u001b[0mline\u001b[0m \u001b[0;34m=\u001b[0m \u001b[0mself\u001b[0m\u001b[0;34m.\u001b[0m\u001b[0m_fp\u001b[0m\u001b[0;34m.\u001b[0m\u001b[0mfp\u001b[0m\u001b[0;34m.\u001b[0m\u001b[0mreadline\u001b[0m\u001b[0;34m(\u001b[0m\u001b[0;34m)\u001b[0m\u001b[0;34m\u001b[0m\u001b[0;34m\u001b[0m\u001b[0m\n\u001b[0m\u001b[1;32m    695\u001b[0m         \u001b[0mline\u001b[0m \u001b[0;34m=\u001b[0m \u001b[0mline\u001b[0m\u001b[0;34m.\u001b[0m\u001b[0msplit\u001b[0m\u001b[0;34m(\u001b[0m\u001b[0;34mb\";\"\u001b[0m\u001b[0;34m,\u001b[0m \u001b[0;36m1\u001b[0m\u001b[0;34m)\u001b[0m\u001b[0;34m[\u001b[0m\u001b[0;36m0\u001b[0m\u001b[0;34m]\u001b[0m\u001b[0;34m\u001b[0m\u001b[0;34m\u001b[0m\u001b[0m\n\u001b[1;32m    696\u001b[0m         \u001b[0;32mtry\u001b[0m\u001b[0;34m:\u001b[0m\u001b[0;34m\u001b[0m\u001b[0;34m\u001b[0m\u001b[0m\n",
      "\u001b[0;32m/Library/Frameworks/Python.framework/Versions/3.8/lib/python3.8/socket.py\u001b[0m in \u001b[0;36mreadinto\u001b[0;34m(self, b)\u001b[0m\n\u001b[1;32m    667\u001b[0m         \u001b[0;32mwhile\u001b[0m \u001b[0;32mTrue\u001b[0m\u001b[0;34m:\u001b[0m\u001b[0;34m\u001b[0m\u001b[0;34m\u001b[0m\u001b[0m\n\u001b[1;32m    668\u001b[0m             \u001b[0;32mtry\u001b[0m\u001b[0;34m:\u001b[0m\u001b[0;34m\u001b[0m\u001b[0;34m\u001b[0m\u001b[0m\n\u001b[0;32m--> 669\u001b[0;31m                 \u001b[0;32mreturn\u001b[0m \u001b[0mself\u001b[0m\u001b[0;34m.\u001b[0m\u001b[0m_sock\u001b[0m\u001b[0;34m.\u001b[0m\u001b[0mrecv_into\u001b[0m\u001b[0;34m(\u001b[0m\u001b[0mb\u001b[0m\u001b[0;34m)\u001b[0m\u001b[0;34m\u001b[0m\u001b[0;34m\u001b[0m\u001b[0m\n\u001b[0m\u001b[1;32m    670\u001b[0m             \u001b[0;32mexcept\u001b[0m \u001b[0mtimeout\u001b[0m\u001b[0;34m:\u001b[0m\u001b[0;34m\u001b[0m\u001b[0;34m\u001b[0m\u001b[0m\n\u001b[1;32m    671\u001b[0m                 \u001b[0mself\u001b[0m\u001b[0;34m.\u001b[0m\u001b[0m_timeout_occurred\u001b[0m \u001b[0;34m=\u001b[0m \u001b[0;32mTrue\u001b[0m\u001b[0;34m\u001b[0m\u001b[0;34m\u001b[0m\u001b[0m\n",
      "\u001b[0;32m/Library/Frameworks/Python.framework/Versions/3.8/lib/python3.8/ssl.py\u001b[0m in \u001b[0;36mrecv_into\u001b[0;34m(self, buffer, nbytes, flags)\u001b[0m\n\u001b[1;32m   1239\u001b[0m                   \u001b[0;34m\"non-zero flags not allowed in calls to recv_into() on %s\"\u001b[0m \u001b[0;34m%\u001b[0m\u001b[0;34m\u001b[0m\u001b[0;34m\u001b[0m\u001b[0m\n\u001b[1;32m   1240\u001b[0m                   self.__class__)\n\u001b[0;32m-> 1241\u001b[0;31m             \u001b[0;32mreturn\u001b[0m \u001b[0mself\u001b[0m\u001b[0;34m.\u001b[0m\u001b[0mread\u001b[0m\u001b[0;34m(\u001b[0m\u001b[0mnbytes\u001b[0m\u001b[0;34m,\u001b[0m \u001b[0mbuffer\u001b[0m\u001b[0;34m)\u001b[0m\u001b[0;34m\u001b[0m\u001b[0;34m\u001b[0m\u001b[0m\n\u001b[0m\u001b[1;32m   1242\u001b[0m         \u001b[0;32melse\u001b[0m\u001b[0;34m:\u001b[0m\u001b[0;34m\u001b[0m\u001b[0;34m\u001b[0m\u001b[0m\n\u001b[1;32m   1243\u001b[0m             \u001b[0;32mreturn\u001b[0m \u001b[0msuper\u001b[0m\u001b[0;34m(\u001b[0m\u001b[0;34m)\u001b[0m\u001b[0;34m.\u001b[0m\u001b[0mrecv_into\u001b[0m\u001b[0;34m(\u001b[0m\u001b[0mbuffer\u001b[0m\u001b[0;34m,\u001b[0m \u001b[0mnbytes\u001b[0m\u001b[0;34m,\u001b[0m \u001b[0mflags\u001b[0m\u001b[0;34m)\u001b[0m\u001b[0;34m\u001b[0m\u001b[0;34m\u001b[0m\u001b[0m\n",
      "\u001b[0;32m/Library/Frameworks/Python.framework/Versions/3.8/lib/python3.8/ssl.py\u001b[0m in \u001b[0;36mread\u001b[0;34m(self, len, buffer)\u001b[0m\n\u001b[1;32m   1097\u001b[0m         \u001b[0;32mtry\u001b[0m\u001b[0;34m:\u001b[0m\u001b[0;34m\u001b[0m\u001b[0;34m\u001b[0m\u001b[0m\n\u001b[1;32m   1098\u001b[0m             \u001b[0;32mif\u001b[0m \u001b[0mbuffer\u001b[0m \u001b[0;32mis\u001b[0m \u001b[0;32mnot\u001b[0m \u001b[0;32mNone\u001b[0m\u001b[0;34m:\u001b[0m\u001b[0;34m\u001b[0m\u001b[0;34m\u001b[0m\u001b[0m\n\u001b[0;32m-> 1099\u001b[0;31m                 \u001b[0;32mreturn\u001b[0m \u001b[0mself\u001b[0m\u001b[0;34m.\u001b[0m\u001b[0m_sslobj\u001b[0m\u001b[0;34m.\u001b[0m\u001b[0mread\u001b[0m\u001b[0;34m(\u001b[0m\u001b[0mlen\u001b[0m\u001b[0;34m,\u001b[0m \u001b[0mbuffer\u001b[0m\u001b[0;34m)\u001b[0m\u001b[0;34m\u001b[0m\u001b[0;34m\u001b[0m\u001b[0m\n\u001b[0m\u001b[1;32m   1100\u001b[0m             \u001b[0;32melse\u001b[0m\u001b[0;34m:\u001b[0m\u001b[0;34m\u001b[0m\u001b[0;34m\u001b[0m\u001b[0m\n\u001b[1;32m   1101\u001b[0m                 \u001b[0;32mreturn\u001b[0m \u001b[0mself\u001b[0m\u001b[0;34m.\u001b[0m\u001b[0m_sslobj\u001b[0m\u001b[0;34m.\u001b[0m\u001b[0mread\u001b[0m\u001b[0;34m(\u001b[0m\u001b[0mlen\u001b[0m\u001b[0;34m)\u001b[0m\u001b[0;34m\u001b[0m\u001b[0;34m\u001b[0m\u001b[0m\n",
      "\u001b[0;31mKeyboardInterrupt\u001b[0m: "
     ]
    }
   ],
   "source": [
    "trader.stream_data(instrument=trader.instrument, stop=30)"
   ]
  },
  {
   "cell_type": "code",
   "execution_count": 48,
   "metadata": {},
   "outputs": [
    {
     "output_type": "execute_result",
     "data": {
      "text/plain": [
       "                               bid      ask       mid   returns  position\n",
       "2020-12-04 18:22:10+00:00  1.21464  1.21470  1.214670       NaN       NaN\n",
       "2020-12-04 18:22:15+00:00  1.21459  1.21465  1.214620 -0.000041       1.0\n",
       "2020-12-04 18:22:20+00:00  1.21459  1.21467  1.214630  0.000008      -1.0\n",
       "2020-12-04 18:22:25+00:00  1.21459  1.21467  1.214630  0.000000      -1.0\n",
       "2020-12-04 18:22:30+00:00  1.21460  1.21466  1.214630  0.000000      -1.0\n",
       "2020-12-04 18:22:35+00:00  1.21460  1.21466  1.214630  0.000000      -1.0\n",
       "2020-12-04 18:22:40+00:00  1.21462  1.21468  1.214650  0.000016      -1.0\n",
       "2020-12-04 18:22:45+00:00  1.21460  1.21466  1.214630 -0.000016       1.0\n",
       "2020-12-04 18:22:50+00:00  1.21467  1.21473  1.214700  0.000058      -1.0\n",
       "2020-12-04 18:22:55+00:00  1.21470  1.21477  1.214735  0.000029      -1.0\n",
       "2020-12-04 18:23:00+00:00  1.21470  1.21477  1.214735  0.000000      -1.0\n",
       "2020-12-04 18:23:05+00:00  1.21474  1.21480  1.214770  0.000029      -1.0\n",
       "2020-12-04 18:23:10+00:00  1.21470  1.21476  1.214730 -0.000033       1.0\n",
       "2020-12-04 18:23:15+00:00  1.21470  1.21476  1.214730  0.000000      -0.0\n",
       "2020-12-04 18:23:20+00:00  1.21470  1.21476  1.214730  0.000000      -0.0\n",
       "2020-12-04 18:23:25+00:00  1.21464  1.21470  1.214670 -0.000049       1.0\n",
       "2020-12-04 18:23:30+00:00  1.21464  1.21470  1.214670  0.000000      -0.0"
      ],
      "text/html": "<div>\n<style scoped>\n    .dataframe tbody tr th:only-of-type {\n        vertical-align: middle;\n    }\n\n    .dataframe tbody tr th {\n        vertical-align: top;\n    }\n\n    .dataframe thead th {\n        text-align: right;\n    }\n</style>\n<table border=\"1\" class=\"dataframe\">\n  <thead>\n    <tr style=\"text-align: right;\">\n      <th></th>\n      <th>bid</th>\n      <th>ask</th>\n      <th>mid</th>\n      <th>returns</th>\n      <th>position</th>\n    </tr>\n  </thead>\n  <tbody>\n    <tr>\n      <th>2020-12-04 18:22:10+00:00</th>\n      <td>1.21464</td>\n      <td>1.21470</td>\n      <td>1.214670</td>\n      <td>NaN</td>\n      <td>NaN</td>\n    </tr>\n    <tr>\n      <th>2020-12-04 18:22:15+00:00</th>\n      <td>1.21459</td>\n      <td>1.21465</td>\n      <td>1.214620</td>\n      <td>-0.000041</td>\n      <td>1.0</td>\n    </tr>\n    <tr>\n      <th>2020-12-04 18:22:20+00:00</th>\n      <td>1.21459</td>\n      <td>1.21467</td>\n      <td>1.214630</td>\n      <td>0.000008</td>\n      <td>-1.0</td>\n    </tr>\n    <tr>\n      <th>2020-12-04 18:22:25+00:00</th>\n      <td>1.21459</td>\n      <td>1.21467</td>\n      <td>1.214630</td>\n      <td>0.000000</td>\n      <td>-1.0</td>\n    </tr>\n    <tr>\n      <th>2020-12-04 18:22:30+00:00</th>\n      <td>1.21460</td>\n      <td>1.21466</td>\n      <td>1.214630</td>\n      <td>0.000000</td>\n      <td>-1.0</td>\n    </tr>\n    <tr>\n      <th>2020-12-04 18:22:35+00:00</th>\n      <td>1.21460</td>\n      <td>1.21466</td>\n      <td>1.214630</td>\n      <td>0.000000</td>\n      <td>-1.0</td>\n    </tr>\n    <tr>\n      <th>2020-12-04 18:22:40+00:00</th>\n      <td>1.21462</td>\n      <td>1.21468</td>\n      <td>1.214650</td>\n      <td>0.000016</td>\n      <td>-1.0</td>\n    </tr>\n    <tr>\n      <th>2020-12-04 18:22:45+00:00</th>\n      <td>1.21460</td>\n      <td>1.21466</td>\n      <td>1.214630</td>\n      <td>-0.000016</td>\n      <td>1.0</td>\n    </tr>\n    <tr>\n      <th>2020-12-04 18:22:50+00:00</th>\n      <td>1.21467</td>\n      <td>1.21473</td>\n      <td>1.214700</td>\n      <td>0.000058</td>\n      <td>-1.0</td>\n    </tr>\n    <tr>\n      <th>2020-12-04 18:22:55+00:00</th>\n      <td>1.21470</td>\n      <td>1.21477</td>\n      <td>1.214735</td>\n      <td>0.000029</td>\n      <td>-1.0</td>\n    </tr>\n    <tr>\n      <th>2020-12-04 18:23:00+00:00</th>\n      <td>1.21470</td>\n      <td>1.21477</td>\n      <td>1.214735</td>\n      <td>0.000000</td>\n      <td>-1.0</td>\n    </tr>\n    <tr>\n      <th>2020-12-04 18:23:05+00:00</th>\n      <td>1.21474</td>\n      <td>1.21480</td>\n      <td>1.214770</td>\n      <td>0.000029</td>\n      <td>-1.0</td>\n    </tr>\n    <tr>\n      <th>2020-12-04 18:23:10+00:00</th>\n      <td>1.21470</td>\n      <td>1.21476</td>\n      <td>1.214730</td>\n      <td>-0.000033</td>\n      <td>1.0</td>\n    </tr>\n    <tr>\n      <th>2020-12-04 18:23:15+00:00</th>\n      <td>1.21470</td>\n      <td>1.21476</td>\n      <td>1.214730</td>\n      <td>0.000000</td>\n      <td>-0.0</td>\n    </tr>\n    <tr>\n      <th>2020-12-04 18:23:20+00:00</th>\n      <td>1.21470</td>\n      <td>1.21476</td>\n      <td>1.214730</td>\n      <td>0.000000</td>\n      <td>-0.0</td>\n    </tr>\n    <tr>\n      <th>2020-12-04 18:23:25+00:00</th>\n      <td>1.21464</td>\n      <td>1.21470</td>\n      <td>1.214670</td>\n      <td>-0.000049</td>\n      <td>1.0</td>\n    </tr>\n    <tr>\n      <th>2020-12-04 18:23:30+00:00</th>\n      <td>1.21464</td>\n      <td>1.21470</td>\n      <td>1.214670</td>\n      <td>0.000000</td>\n      <td>-0.0</td>\n    </tr>\n  </tbody>\n</table>\n</div>"
     },
     "metadata": {},
     "execution_count": 48
    }
   ],
   "source": [
    "trader.data"
   ]
  },
  {
   "cell_type": "code",
   "execution_count": 54,
   "metadata": {},
   "outputs": [
    {
     "output_type": "stream",
     "name": "stdout",
     "text": [
      "1 2 3 4 5 6 7 8 9 10 11 12 13 14 15 16 \n",
      "------------------------------------------------------------\n",
      "2020-12-04T18:30:26.087571321Z | Going Short\n",
      "2020-12-04T18:30:26.087571321Z | units: -100000.0 | price: 1.215 | P&L: 24.0 | Cum P&L: 24.0\n",
      "------------------------------------------------------------\n",
      "17 18 19 20 21 22 23 24 25 26 27 28 \n",
      "------------------------------------------------------------\n",
      "2020-12-04T18:30:46.533067737Z | Closing Prev Position & Going Long\n",
      "2020-12-04T18:30:46.533067737Z | units: 200000.0 | price: 1.21507 | P&L: 0.0 | Cum P&L: 24.0\n",
      "------------------------------------------------------------\n",
      "29 30 31 32 33 \n",
      "------------------------------------------------------------\n",
      "2020-12-04T18:30:50.673637912Z | Closing Prev Position & Going Short\n",
      "2020-12-04T18:30:50.673637912Z | units: -200000.0 | price: 1.21504 | P&L: 25.0 | Cum P&L: 49.0\n",
      "------------------------------------------------------------\n",
      "34 35 36 37 \n",
      "------------------------------------------------------------\n",
      "2020-12-04T18:30:56.208376932Z | Closing Prev Position & Going Long\n",
      "2020-12-04T18:30:56.208376932Z | units: 200000.0 | price: 1.21512 | P&L: 0.0 | Cum P&L: 49.0\n",
      "------------------------------------------------------------\n",
      "38 39 40 41 42 43 44 45 46 47 48 49 50 51 52 53 \n",
      "------------------------------------------------------------\n",
      "2020-12-04T18:31:30.847453342Z | Closing Prev Position & Going Short\n",
      "2020-12-04T18:31:30.847453342Z | units: -200000.0 | price: 1.215 | P&L: -19.0 | Cum P&L: 30.0\n",
      "------------------------------------------------------------\n",
      "54 55 56 57 58 59 60 61 62 63 64 \n",
      "------------------------------------------------------------\n",
      "2020-12-04T18:32:20.847893032Z | Closing Prev Position & Going Long\n",
      "2020-12-04T18:32:20.847893032Z | units: 200000.0 | price: 1.21502 | P&L: 0.0 | Cum P&L: 30.0\n",
      "------------------------------------------------------------\n",
      "65 66 \n",
      "------------------------------------------------------------\n",
      "2020-12-04T18:32:25.916417932Z | Closing Prev Position & Going Short\n",
      "2020-12-04T18:32:25.916417932Z | units: -200000.0 | price: 1.21497 | P&L: -20.0 | Cum P&L: 10.0\n",
      "------------------------------------------------------------\n",
      "67 68 69 70 \n",
      "------------------------------------------------------------\n",
      "2020-12-04T18:32:32.980067645Z | Closing All Positions\n",
      "2020-12-04T18:32:32.980067645Z | units: 100000.0 | price: 1.21503 | P&L: 0.0 | Cum P&L: 10.0\n",
      "------------------------------------------------------------\n"
     ]
    }
   ],
   "source": [
    "trader.stream_data(instrument=trader.instrument, stop=70)\n",
    "close_positions = trader.create_order(instrument=trader.instrument, units=-trader.position*trader.units, suppress=True, ret=True)\n",
    "trader.report_trade(close_positions, \"Closing All Positions\")"
   ]
  },
  {
   "cell_type": "code",
   "execution_count": 56,
   "metadata": {},
   "outputs": [
    {
     "output_type": "execute_result",
     "data": {
      "text/plain": [
       "-1"
      ]
     },
     "metadata": {},
     "execution_count": 56
    }
   ],
   "source": [
    "trader.position"
   ]
  },
  {
   "cell_type": "code",
   "execution_count": null,
   "metadata": {},
   "outputs": [],
   "source": []
  },
  {
   "cell_type": "code",
   "execution_count": null,
   "metadata": {},
   "outputs": [],
   "source": []
  }
 ]
}