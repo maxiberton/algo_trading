{
 "metadata": {
  "language_info": {
   "codemirror_mode": {
    "name": "ipython",
    "version": 3
   },
   "file_extension": ".py",
   "mimetype": "text/x-python",
   "name": "python",
   "nbconvert_exporter": "python",
   "pygments_lexer": "ipython3",
   "version": "3.8.3-final"
  },
  "orig_nbformat": 2,
  "kernelspec": {
   "name": "python3",
   "display_name": "Python 3"
  }
 },
 "nbformat": 4,
 "nbformat_minor": 2,
 "cells": [
  {
   "cell_type": "code",
   "execution_count": 1,
   "metadata": {},
   "outputs": [],
   "source": [
    "import pandas as pd\n",
    "import numpy as np\n",
    "import matplotlib.pyplot as plt\n",
    "\n",
    "from scipy.optimize import brute\n",
    "from tqdm import tqdm\n",
    "\n",
    "plt.style.use(\"seaborn\")"
   ]
  },
  {
   "cell_type": "code",
   "execution_count": 2,
   "metadata": {},
   "outputs": [
    {
     "output_type": "execute_result",
     "data": {
      "text/plain": [
       "                              price\n",
       "time                               \n",
       "2018-01-01 22:00:00+00:00  1.201205\n",
       "2018-01-02 04:00:00+00:00  1.207055\n",
       "2018-01-02 10:00:00+00:00  1.204440\n",
       "2018-01-02 16:00:00+00:00  1.205800\n",
       "2018-01-02 22:00:00+00:00  1.204690\n",
       "...                             ...\n",
       "2019-12-29 22:00:00+00:00  1.119920\n",
       "2019-12-30 04:00:00+00:00  1.119940\n",
       "2019-12-30 10:00:00+00:00  1.120095\n",
       "2019-12-30 16:00:00+00:00  1.119920\n",
       "2019-12-30 22:00:00+00:00  1.120355\n",
       "\n",
       "[2070 rows x 1 columns]"
      ],
      "text/html": "<div>\n<style scoped>\n    .dataframe tbody tr th:only-of-type {\n        vertical-align: middle;\n    }\n\n    .dataframe tbody tr th {\n        vertical-align: top;\n    }\n\n    .dataframe thead th {\n        text-align: right;\n    }\n</style>\n<table border=\"1\" class=\"dataframe\">\n  <thead>\n    <tr style=\"text-align: right;\">\n      <th></th>\n      <th>price</th>\n    </tr>\n    <tr>\n      <th>time</th>\n      <th></th>\n    </tr>\n  </thead>\n  <tbody>\n    <tr>\n      <th>2018-01-01 22:00:00+00:00</th>\n      <td>1.201205</td>\n    </tr>\n    <tr>\n      <th>2018-01-02 04:00:00+00:00</th>\n      <td>1.207055</td>\n    </tr>\n    <tr>\n      <th>2018-01-02 10:00:00+00:00</th>\n      <td>1.204440</td>\n    </tr>\n    <tr>\n      <th>2018-01-02 16:00:00+00:00</th>\n      <td>1.205800</td>\n    </tr>\n    <tr>\n      <th>2018-01-02 22:00:00+00:00</th>\n      <td>1.204690</td>\n    </tr>\n    <tr>\n      <th>...</th>\n      <td>...</td>\n    </tr>\n    <tr>\n      <th>2019-12-29 22:00:00+00:00</th>\n      <td>1.119920</td>\n    </tr>\n    <tr>\n      <th>2019-12-30 04:00:00+00:00</th>\n      <td>1.119940</td>\n    </tr>\n    <tr>\n      <th>2019-12-30 10:00:00+00:00</th>\n      <td>1.120095</td>\n    </tr>\n    <tr>\n      <th>2019-12-30 16:00:00+00:00</th>\n      <td>1.119920</td>\n    </tr>\n    <tr>\n      <th>2019-12-30 22:00:00+00:00</th>\n      <td>1.120355</td>\n    </tr>\n  </tbody>\n</table>\n<p>2070 rows × 1 columns</p>\n</div>"
     },
     "metadata": {},
     "execution_count": 2
    }
   ],
   "source": [
    "df = pd.read_csv(\"/Users/maxibertonalbornoz/Documents/Python/Udemy/Algorithmic Trading A-Z with Python and ML/Part3_Materials/intraday.csv\", parse_dates=[\"time\"], index_col=\"time\")\n",
    "df"
   ]
  },
  {
   "cell_type": "code",
   "execution_count": 27,
   "metadata": {},
   "outputs": [],
   "source": [
    "def run_strategy(boll):\n",
    "    data = df.copy()\n",
    "    data[\"returns\"] = np.log(data.price.div(data.price.shift(periods=1)))\n",
    "    \n",
    "    data[\"SMA\"] = data[\"price\"].rolling(window=boll[0]).mean()\n",
    "    data[\"Upper\"] = data.SMA + data.price.rolling(window=boll[0]).std().mul(boll[1])\n",
    "    data[\"Lower\"] = data.SMA - data.price.rolling(window=boll[0]).std().mul(boll[1])\n",
    "    data.dropna(inplace=True)\n",
    "\n",
    "    data[\"distance\"] = (data.price - data.SMA)\n",
    "\n",
    "    data[\"position\"] = np.where(data.price < data.Lower, 1, np.nan)\n",
    "    data[\"position\"] = np.where(data.price > data.Upper, -1, data[\"position\"])\n",
    "    data[\"position\"] = np.where(data.distance * data.distance.shift(periods=1)<0, 0, data[\"position\"])\n",
    "    data[\"position\"] = data.position.ffill().fillna(0)\n",
    "\n",
    "    data[\"strategy\"] = data.position.shift(periods=1).mul(data.returns)\n",
    "    data.dropna(inplace=True)\n",
    "\n",
    "    return -data[[\"returns\", \"strategy\"]].sum().apply(np.exp)[1]"
   ]
  },
  {
   "cell_type": "code",
   "execution_count": 28,
   "metadata": {},
   "outputs": [
    {
     "output_type": "execute_result",
     "data": {
      "text/plain": [
       "-1.0781362437114343"
      ]
     },
     "metadata": {},
     "execution_count": 28
    }
   ],
   "source": [
    "run_strategy((30,2))"
   ]
  },
  {
   "cell_type": "code",
   "execution_count": 29,
   "metadata": {},
   "outputs": [
    {
     "output_type": "execute_result",
     "data": {
      "text/plain": [
       "array([58.,  1.])"
      ]
     },
     "metadata": {},
     "execution_count": 29
    }
   ],
   "source": [
    "brute(run_strategy, ((20,100,1), (1,5,1)), finish=None)"
   ]
  },
  {
   "cell_type": "code",
   "execution_count": null,
   "metadata": {},
   "outputs": [],
   "source": []
  },
  {
   "cell_type": "code",
   "execution_count": null,
   "metadata": {},
   "outputs": [],
   "source": []
  },
  {
   "cell_type": "code",
   "execution_count": null,
   "metadata": {},
   "outputs": [],
   "source": []
  },
  {
   "cell_type": "code",
   "execution_count": null,
   "metadata": {},
   "outputs": [],
   "source": []
  },
  {
   "cell_type": "code",
   "execution_count": null,
   "metadata": {},
   "outputs": [],
   "source": []
  },
  {
   "cell_type": "code",
   "execution_count": null,
   "metadata": {},
   "outputs": [],
   "source": []
  },
  {
   "cell_type": "code",
   "execution_count": null,
   "metadata": {},
   "outputs": [],
   "source": []
  },
  {
   "cell_type": "code",
   "execution_count": null,
   "metadata": {},
   "outputs": [],
   "source": []
  },
  {
   "cell_type": "code",
   "execution_count": null,
   "metadata": {},
   "outputs": [],
   "source": []
  },
  {
   "cell_type": "code",
   "execution_count": null,
   "metadata": {},
   "outputs": [],
   "source": []
  }
 ]
}