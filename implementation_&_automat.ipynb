{
 "metadata": {
  "language_info": {
   "codemirror_mode": {
    "name": "ipython",
    "version": 3
   },
   "file_extension": ".py",
   "mimetype": "text/x-python",
   "name": "python",
   "nbconvert_exporter": "python",
   "pygments_lexer": "ipython3",
   "version": "3.8.3-final"
  },
  "orig_nbformat": 2,
  "kernelspec": {
   "name": "python38364bit644a824b3b254afea859fded9c59e82f",
   "display_name": "Python 3.8.3 64-bit"
  }
 },
 "nbformat": 4,
 "nbformat_minor": 2,
 "cells": [
  {
   "cell_type": "code",
   "execution_count": 1,
   "metadata": {},
   "outputs": [],
   "source": [
    "import pandas as pd\n",
    "import numpy as np\n",
    "import tpqoa"
   ]
  },
  {
   "cell_type": "code",
   "execution_count": 2,
   "metadata": {},
   "outputs": [],
   "source": [
    "api = tpqoa.tpqoa(\"oanda.cfg\")"
   ]
  },
  {
   "cell_type": "code",
   "execution_count": 3,
   "metadata": {},
   "outputs": [
    {
     "output_type": "execute_result",
     "data": {
      "text/plain": [
       "                           volume  complete        o        h        l  \\\n",
       "time                                                                     \n",
       "2020-09-21 00:00:00+00:00    1632      True  1.18447  1.18602  1.18423   \n",
       "2020-09-21 01:00:00+00:00    1908      True  1.18588  1.18611  1.18536   \n",
       "2020-09-21 02:00:00+00:00    1799      True  1.18555  1.18619  1.18554   \n",
       "2020-09-21 03:00:00+00:00    1380      True  1.18581  1.18668  1.18559   \n",
       "2020-09-21 04:00:00+00:00     965      True  1.18668  1.18712  1.18652   \n",
       "...                           ...       ...      ...      ...      ...   \n",
       "2020-09-23 19:00:00+00:00    5172      True  1.16568  1.16636  1.16508   \n",
       "2020-09-23 20:00:00+00:00    1775      True  1.16617  1.16629  1.16541   \n",
       "2020-09-23 21:00:00+00:00     110      True  1.16592  1.16615  1.16551   \n",
       "2020-09-23 22:00:00+00:00     397      True  1.16585  1.16638  1.16571   \n",
       "2020-09-23 23:00:00+00:00    1324      True  1.16612  1.16616  1.16510   \n",
       "\n",
       "                                 c  \n",
       "time                                \n",
       "2020-09-21 00:00:00+00:00  1.18587  \n",
       "2020-09-21 01:00:00+00:00  1.18554  \n",
       "2020-09-21 02:00:00+00:00  1.18580  \n",
       "2020-09-21 03:00:00+00:00  1.18668  \n",
       "2020-09-21 04:00:00+00:00  1.18660  \n",
       "...                            ...  \n",
       "2020-09-23 19:00:00+00:00  1.16620  \n",
       "2020-09-23 20:00:00+00:00  1.16592  \n",
       "2020-09-23 21:00:00+00:00  1.16589  \n",
       "2020-09-23 22:00:00+00:00  1.16610  \n",
       "2020-09-23 23:00:00+00:00  1.16562  \n",
       "\n",
       "[72 rows x 6 columns]"
      ],
      "text/html": "<div>\n<style scoped>\n    .dataframe tbody tr th:only-of-type {\n        vertical-align: middle;\n    }\n\n    .dataframe tbody tr th {\n        vertical-align: top;\n    }\n\n    .dataframe thead th {\n        text-align: right;\n    }\n</style>\n<table border=\"1\" class=\"dataframe\">\n  <thead>\n    <tr style=\"text-align: right;\">\n      <th></th>\n      <th>volume</th>\n      <th>complete</th>\n      <th>o</th>\n      <th>h</th>\n      <th>l</th>\n      <th>c</th>\n    </tr>\n    <tr>\n      <th>time</th>\n      <th></th>\n      <th></th>\n      <th></th>\n      <th></th>\n      <th></th>\n      <th></th>\n    </tr>\n  </thead>\n  <tbody>\n    <tr>\n      <th>2020-09-21 00:00:00+00:00</th>\n      <td>1632</td>\n      <td>True</td>\n      <td>1.18447</td>\n      <td>1.18602</td>\n      <td>1.18423</td>\n      <td>1.18587</td>\n    </tr>\n    <tr>\n      <th>2020-09-21 01:00:00+00:00</th>\n      <td>1908</td>\n      <td>True</td>\n      <td>1.18588</td>\n      <td>1.18611</td>\n      <td>1.18536</td>\n      <td>1.18554</td>\n    </tr>\n    <tr>\n      <th>2020-09-21 02:00:00+00:00</th>\n      <td>1799</td>\n      <td>True</td>\n      <td>1.18555</td>\n      <td>1.18619</td>\n      <td>1.18554</td>\n      <td>1.18580</td>\n    </tr>\n    <tr>\n      <th>2020-09-21 03:00:00+00:00</th>\n      <td>1380</td>\n      <td>True</td>\n      <td>1.18581</td>\n      <td>1.18668</td>\n      <td>1.18559</td>\n      <td>1.18668</td>\n    </tr>\n    <tr>\n      <th>2020-09-21 04:00:00+00:00</th>\n      <td>965</td>\n      <td>True</td>\n      <td>1.18668</td>\n      <td>1.18712</td>\n      <td>1.18652</td>\n      <td>1.18660</td>\n    </tr>\n    <tr>\n      <th>...</th>\n      <td>...</td>\n      <td>...</td>\n      <td>...</td>\n      <td>...</td>\n      <td>...</td>\n      <td>...</td>\n    </tr>\n    <tr>\n      <th>2020-09-23 19:00:00+00:00</th>\n      <td>5172</td>\n      <td>True</td>\n      <td>1.16568</td>\n      <td>1.16636</td>\n      <td>1.16508</td>\n      <td>1.16620</td>\n    </tr>\n    <tr>\n      <th>2020-09-23 20:00:00+00:00</th>\n      <td>1775</td>\n      <td>True</td>\n      <td>1.16617</td>\n      <td>1.16629</td>\n      <td>1.16541</td>\n      <td>1.16592</td>\n    </tr>\n    <tr>\n      <th>2020-09-23 21:00:00+00:00</th>\n      <td>110</td>\n      <td>True</td>\n      <td>1.16592</td>\n      <td>1.16615</td>\n      <td>1.16551</td>\n      <td>1.16589</td>\n    </tr>\n    <tr>\n      <th>2020-09-23 22:00:00+00:00</th>\n      <td>397</td>\n      <td>True</td>\n      <td>1.16585</td>\n      <td>1.16638</td>\n      <td>1.16571</td>\n      <td>1.16610</td>\n    </tr>\n    <tr>\n      <th>2020-09-23 23:00:00+00:00</th>\n      <td>1324</td>\n      <td>True</td>\n      <td>1.16612</td>\n      <td>1.16616</td>\n      <td>1.16510</td>\n      <td>1.16562</td>\n    </tr>\n  </tbody>\n</table>\n<p>72 rows × 6 columns</p>\n</div>"
     },
     "metadata": {},
     "execution_count": 3
    }
   ],
   "source": [
    "api.get_history(instrument=\"EUR_USD\", start=\"2020-09-21\", end=\"2020-09-24\", granularity=\"H1\", price=\"B\")"
   ]
  },
  {
   "cell_type": "code",
   "execution_count": 4,
   "metadata": {},
   "outputs": [
    {
     "output_type": "stream",
     "name": "stdout",
     "text": [
      "2020-12-04T14:51:25.346706701Z 1.2162 1.21628\n",
      "2020-12-04T14:51:25.545571622Z 1.21622 1.21632\n",
      "2020-12-04T14:51:26.032995787Z 1.21624 1.2163\n",
      "2020-12-04T14:51:27.199976096Z 1.21625 1.21632\n",
      "2020-12-04T14:51:29.394475931Z 1.21626 1.21633\n",
      "2020-12-04T14:51:29.416509583Z 1.21628 1.21635\n",
      "2020-12-04T14:51:30.228273563Z 1.2163 1.21636\n",
      "2020-12-04T14:51:34.772408872Z 1.21631 1.21638\n",
      "2020-12-04T14:51:36.264553437Z 1.2163 1.21636\n",
      "2020-12-04T14:51:37.153756497Z 1.21633 1.2164\n"
     ]
    }
   ],
   "source": [
    "api.stream_data(\"EUR_USD\", stop=10)"
   ]
  },
  {
   "cell_type": "code",
   "execution_count": 5,
   "metadata": {},
   "outputs": [],
   "source": [
    "class CloneClass(tpqoa.tpqoa):\n",
    "    def on_success(self, time, bid, ask):\n",
    "        print(\"Time: {} | Bid: {} | Ask: {}\".format(time, bid, ask))"
   ]
  },
  {
   "cell_type": "code",
   "execution_count": 6,
   "metadata": {},
   "outputs": [],
   "source": [
    "api = CloneClass(\"oanda.cfg\")"
   ]
  },
  {
   "cell_type": "code",
   "execution_count": 7,
   "metadata": {},
   "outputs": [
    {
     "output_type": "execute_result",
     "data": {
      "text/plain": [
       "[('Silver/EUR', 'XAG_EUR'),\n",
       " ('CAD/SGD', 'CAD_SGD'),\n",
       " ('Silver', 'XAG_USD'),\n",
       " ('UK 100', 'UK100_GBP'),\n",
       " ('GBP/NZD', 'GBP_NZD')]"
      ]
     },
     "metadata": {},
     "execution_count": 7
    }
   ],
   "source": [
    "api.get_instruments()[:5]"
   ]
  },
  {
   "cell_type": "code",
   "execution_count": 8,
   "metadata": {},
   "outputs": [
    {
     "output_type": "stream",
     "name": "stdout",
     "text": [
      "Time: 2020-12-04T14:51:37.392411181Z | Bid: 1.21635 | Ask: 1.21641\n",
      "Time: 2020-12-04T14:51:38.712222148Z | Bid: 1.21634 | Ask: 1.2164\n",
      "Time: 2020-12-04T14:51:39.079302158Z | Bid: 1.21635 | Ask: 1.21641\n",
      "Time: 2020-12-04T14:51:39.620414385Z | Bid: 1.21636 | Ask: 1.21642\n",
      "Time: 2020-12-04T14:51:39.696288084Z | Bid: 1.21635 | Ask: 1.21641\n"
     ]
    }
   ],
   "source": [
    "api.stream_data(\"EUR_USD\", stop=5)"
   ]
  },
  {
   "cell_type": "code",
   "execution_count": 9,
   "metadata": {},
   "outputs": [],
   "source": [
    "class GetTickData(tpqoa.tpqoa):\n",
    "\n",
    "    def __init__(self, confiig_file, bar_lenght):\n",
    "        super().__init__(confiig_file)\n",
    "        self.tick_data = pd.DataFrame()\n",
    "        self.bar_lenght = bar_lenght\n",
    "\n",
    "    def on_success(self, time, bid, ask):\n",
    "        print(time, bid, ask)\n",
    "        df = pd.DataFrame({\"bid\": bid, \"ask\": ask, \"mid\": (ask+bid)/2}, index=[pd.to_datetime(time)])\n",
    "        self.tick_data = self.tick_data.append(df)\n",
    "        self.data = self.tick_data.resample(self.bar_lenght, label=\"right\").last().ffill().iloc[:-1]"
   ]
  },
  {
   "cell_type": "code",
   "execution_count": 10,
   "metadata": {},
   "outputs": [],
   "source": [
    "td = GetTickData(\"oanda.cfg\", \"5s\")"
   ]
  },
  {
   "cell_type": "code",
   "execution_count": 11,
   "metadata": {},
   "outputs": [
    {
     "output_type": "stream",
     "name": "stdout",
     "text": [
      "2020-12-04T14:51:40.658603287Z 1.21637 1.21643\n",
      "2020-12-04T14:51:41.525888290Z 1.21633 1.2164\n",
      "2020-12-04T14:51:42.004265740Z 1.21633 1.21641\n",
      "2020-12-04T14:51:42.416200270Z 1.21636 1.21642\n",
      "2020-12-04T14:51:43.248613542Z 1.21636 1.21644\n",
      "2020-12-04T14:51:43.305240093Z 1.21635 1.21642\n",
      "2020-12-04T14:51:44.232757851Z 1.21634 1.2164\n",
      "2020-12-04T14:51:44.511216680Z 1.21629 1.21635\n",
      "2020-12-04T14:51:44.659838159Z 1.21626 1.21632\n",
      "2020-12-04T14:51:47.309231426Z 1.21627 1.21633\n"
     ]
    }
   ],
   "source": [
    "td.stream_data(\"EUR_USD\", stop=10)"
   ]
  },
  {
   "cell_type": "code",
   "execution_count": 12,
   "metadata": {},
   "outputs": [
    {
     "output_type": "execute_result",
     "data": {
      "text/plain": [
       "                               bid      ask      mid\n",
       "2020-12-04 14:51:45+00:00  1.21626  1.21632  1.21629"
      ],
      "text/html": "<div>\n<style scoped>\n    .dataframe tbody tr th:only-of-type {\n        vertical-align: middle;\n    }\n\n    .dataframe tbody tr th {\n        vertical-align: top;\n    }\n\n    .dataframe thead th {\n        text-align: right;\n    }\n</style>\n<table border=\"1\" class=\"dataframe\">\n  <thead>\n    <tr style=\"text-align: right;\">\n      <th></th>\n      <th>bid</th>\n      <th>ask</th>\n      <th>mid</th>\n    </tr>\n  </thead>\n  <tbody>\n    <tr>\n      <th>2020-12-04 14:51:45+00:00</th>\n      <td>1.21626</td>\n      <td>1.21632</td>\n      <td>1.21629</td>\n    </tr>\n  </tbody>\n</table>\n</div>"
     },
     "metadata": {},
     "execution_count": 12
    }
   ],
   "source": [
    "td.data"
   ]
  },
  {
   "cell_type": "code",
   "execution_count": 14,
   "metadata": {},
   "outputs": [
    {
     "output_type": "stream",
     "name": "stdout",
     "text": [
      "\n\n {'id': '48', 'time': '2020-12-04T14:52:23.802694545Z', 'userID': 17115891, 'accountID': '101-011-17115891-001', 'batchID': '47', 'requestID': '42769435898288915', 'type': 'ORDER_FILL', 'orderID': '47', 'instrument': 'EUR_USD', 'units': '100000.0', 'gainQuoteHomeConversionFactor': '1.0', 'lossQuoteHomeConversionFactor': '1.0', 'price': 1.21627, 'fullVWAP': 1.21627, 'fullPrice': {'type': 'PRICE', 'bids': [{'price': 1.21621, 'liquidity': '1000000'}, {'price': 1.2162, 'liquidity': '2000000'}, {'price': 1.21619, 'liquidity': '2000000'}, {'price': 1.21617, 'liquidity': '5000000'}], 'asks': [{'price': 1.21627, 'liquidity': '1000000'}, {'price': 1.21629, 'liquidity': '2000000'}, {'price': 1.2163, 'liquidity': '2000000'}, {'price': 1.21631, 'liquidity': '5000000'}], 'closeoutBid': 1.21617, 'closeoutAsk': 1.21631}, 'reason': 'MARKET_ORDER', 'pl': '0.0', 'financing': '0.0', 'commission': '0.0', 'guaranteedExecutionFee': '0.0', 'accountBalance': '100123.1633', 'tradeOpened': {'tradeID': '48', 'units': '100000.0', 'price': 1.21627, 'guaranteedExecutionFee': '0.0', 'halfSpreadCost': '3.0', 'initialMarginRequired': '2432.48'}, 'halfSpreadCost': '3.0'} \n\n"
     ]
    }
   ],
   "source": [
    "td.create_order(\"EUR_USD\", units=100000)"
   ]
  },
  {
   "cell_type": "code",
   "execution_count": null,
   "metadata": {},
   "outputs": [],
   "source": []
  }
 ]
}